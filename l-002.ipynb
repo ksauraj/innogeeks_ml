{
 "cells": [
  {
   "cell_type": "code",
   "execution_count": 2,
   "id": "e8bb1183-e8f4-4c26-be87-78192d4f7fc0",
   "metadata": {},
   "outputs": [],
   "source": [
    "x = \"\"\"\n",
    "a\n",
    "b \n",
    "c\"\"\""
   ]
  },
  {
   "cell_type": "code",
   "execution_count": 3,
   "id": "18f7b017-0dfe-4a52-a51f-a86501f79903",
   "metadata": {},
   "outputs": [
    {
     "name": "stdout",
     "output_type": "stream",
     "text": [
      "\n",
      "a\n",
      "b \n",
      "c\n"
     ]
    }
   ],
   "source": [
    "print(x)"
   ]
  },
  {
   "cell_type": "code",
   "execution_count": 7,
   "id": "37c28954-2b8d-4225-8b15-85334cd8d21e",
   "metadata": {},
   "outputs": [],
   "source": [
    "x = \"\"\"\\\\n\n",
    "b\"\"\""
   ]
  },
  {
   "cell_type": "code",
   "execution_count": 8,
   "id": "dce4436a-ab01-40ad-9860-4b54e5c75cf3",
   "metadata": {},
   "outputs": [
    {
     "name": "stdout",
     "output_type": "stream",
     "text": [
      "\\n\n",
      "b\n"
     ]
    }
   ],
   "source": [
    "print(x)"
   ]
  },
  {
   "cell_type": "code",
   "execution_count": 9,
   "id": "6124220f-585a-4a06-984a-60a91a891da4",
   "metadata": {},
   "outputs": [
    {
     "name": "stdout",
     "output_type": "stream",
     "text": [
      "\u0000\n"
     ]
    }
   ],
   "source": [
    "print(\"\\0\")"
   ]
  },
  {
   "cell_type": "code",
   "execution_count": 10,
   "id": "bc6fac7c-697d-4b26-bc9c-d540ff3d2544",
   "metadata": {},
   "outputs": [],
   "source": [
    "my_str = \"innogeeks\""
   ]
  },
  {
   "cell_type": "code",
   "execution_count": 37,
   "id": "7e760c9b-4e7e-4822-8047-6e4eb32f47cf",
   "metadata": {},
   "outputs": [
    {
     "name": "stdout",
     "output_type": "stream",
     "text": [
      "innogeeks\n"
     ]
    }
   ],
   "source": [
    "print(my_str[::])"
   ]
  },
  {
   "cell_type": "code",
   "execution_count": null,
   "id": "5edc4f25-a951-494d-99c5-ad8ae120fd06",
   "metadata": {},
   "outputs": [],
   "source": []
  }
 ],
 "metadata": {
  "kernelspec": {
   "display_name": "Python 3 (ipykernel)",
   "language": "python",
   "name": "python3"
  },
  "language_info": {
   "codemirror_mode": {
    "name": "ipython",
    "version": 3
   },
   "file_extension": ".py",
   "mimetype": "text/x-python",
   "name": "python",
   "nbconvert_exporter": "python",
   "pygments_lexer": "ipython3",
   "version": "3.11.5"
  }
 },
 "nbformat": 4,
 "nbformat_minor": 5
}
