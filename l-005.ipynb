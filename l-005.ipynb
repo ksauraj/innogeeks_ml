{
 "cells": [
  {
   "cell_type": "code",
   "execution_count": 1,
   "id": "97c1b8a8-8bbd-4e94-b8ba-455febca2d78",
   "metadata": {},
   "outputs": [],
   "source": [
    "a = 'Arun'"
   ]
  },
  {
   "cell_type": "code",
   "execution_count": 7,
   "id": "bf65d922-22e8-40b4-a767-f479fe0d25a4",
   "metadata": {},
   "outputs": [
    {
     "name": "stdout",
     "output_type": "stream",
     "text": [
      "A Shetty\n"
     ]
    }
   ],
   "source": [
    "b = 'Shetty'\n",
    "z = a[0:1] + ' ' + b \n",
    "print(z)"
   ]
  },
  {
   "cell_type": "code",
   "execution_count": 24,
   "id": "c4f94618-57fa-4006-ae97-7155926aaa9c",
   "metadata": {},
   "outputs": [
    {
     "name": "stdin",
     "output_type": "stream",
     "text": [
      "Enter your name  :  Sauraj Kumar\n"
     ]
    },
    {
     "name": "stdout",
     "output_type": "stream",
     "text": [
      "My name is Sauraj Kumar\n"
     ]
    },
    {
     "name": "stdin",
     "output_type": "stream",
     "text": [
      "Enter a number  :  20\n"
     ]
    },
    {
     "name": "stdout",
     "output_type": "stream",
     "text": [
      "Sauraj Kumar is 20 years old\n"
     ]
    }
   ],
   "source": [
    "a = input(\"Enter your name  : \")\n",
    "print(\"My name is \" +a)\n",
    "b = int(input(\"Enter a number  : \"))\n",
    "print(a + \" is \"+ str(b)+ \" years old\")"
   ]
  },
  {
   "cell_type": "markdown",
   "id": "61f79865-abf6-4168-84bf-87ca275d4b46",
   "metadata": {},
   "source": [
    "### Formatting String"
   ]
  },
  {
   "cell_type": "code",
   "execution_count": 25,
   "id": "102cfef2-d470-4ff6-8f32-69333e25ec3c",
   "metadata": {},
   "outputs": [
    {
     "name": "stdout",
     "output_type": "stream",
     "text": [
      "S. Kumar is 20 years old\n"
     ]
    }
   ],
   "source": [
    "first,last=a.split()\n",
    "print(f\"{first[0]+'. '+last} is {b} years old\")"
   ]
  },
  {
   "cell_type": "raw",
   "id": "3dd7a195-c324-4443-a426-3c810be5aade",
   "metadata": {},
   "source": [
    "name = input(\"Enter your name : \")"
   ]
  },
  {
   "cell_type": "code",
   "execution_count": 30,
   "id": "b8842557-a939-4e05-9bc1-e2c710cccd81",
   "metadata": {},
   "outputs": [
    {
     "name": "stdout",
     "output_type": "stream",
     "text": [
      "Sauraj Kumar Singh\n",
      "SaUraj Kumar Singh\n",
      "sauraj kumar singh\n",
      "SAURAJ KUMAR SINGH\n"
     ]
    }
   ],
   "source": [
    "print(name.title())\n",
    "print(name.strip())\n",
    "print(name.lower())\n",
    "print(name.upper())\n",
    "#print(name.center(1))"
   ]
  },
  {
   "cell_type": "code",
   "execution_count": 34,
   "id": "4c28ab58-233d-4f6b-a961-6b30d738db9b",
   "metadata": {},
   "outputs": [
    {
     "name": "stdout",
     "output_type": "stream",
     "text": [
      "18\n"
     ]
    }
   ],
   "source": [
    "print(len(name))"
   ]
  },
  {
   "cell_type": "markdown",
   "id": "d78919cd-86c3-4cb1-981c-096f812b1d20",
   "metadata": {},
   "source": [
    "### Conditional Statement"
   ]
  },
  {
   "cell_type": "code",
   "execution_count": 35,
   "id": "fc418057-0e7f-48ac-b579-327baa723ede",
   "metadata": {},
   "outputs": [
    {
     "name": "stdin",
     "output_type": "stream",
     "text": [
      "Enter a number :  22\n",
      "Enter second number :  2\n"
     ]
    },
    {
     "name": "stdout",
     "output_type": "stream",
     "text": [
      "A is greater\n"
     ]
    }
   ],
   "source": [
    "a = int(input(\"Enter a number : \"))\n",
    "b = int(input(\"Enter second number : \"))\n",
    "if a > b:\n",
    "    print(\"A is greater\")\n",
    "else : \n",
    "    print(\"B is greater\")"
   ]
  },
  {
   "cell_type": "code",
   "execution_count": 36,
   "id": "33c97f2b-2940-4b5a-adf8-21f126ba0167",
   "metadata": {},
   "outputs": [],
   "source": [
    "#prime number"
   ]
  },
  {
   "cell_type": "code",
   "execution_count": null,
   "id": "b11776a9-05ae-47c6-b274-252e6238dda7",
   "metadata": {},
   "outputs": [],
   "source": []
  },
  {
   "cell_type": "code",
   "execution_count": 38,
   "id": "ad886e31-f1b2-43a6-b44f-2ac0b5d3f262",
   "metadata": {},
   "outputs": [
    {
     "name": "stdin",
     "output_type": "stream",
     "text": [
      "Enter a number :  22\n"
     ]
    },
    {
     "name": "stdout",
     "output_type": "stream",
     "text": [
      "Given number is even\n"
     ]
    }
   ],
   "source": [
    "a = int(input(\"Enter a number : \"))\n",
    "if a % 2 == 0:\n",
    "    print(\"Given number is even\")\n",
    "else :\n",
    "    print(\"Given number is odd\")"
   ]
  },
  {
   "cell_type": "code",
   "execution_count": null,
   "id": "365fb814-843a-428c-9e50-5fdc7a155f2a",
   "metadata": {},
   "outputs": [],
   "source": []
  }
 ],
 "metadata": {
  "kernelspec": {
   "display_name": "Python 3 (ipykernel)",
   "language": "python",
   "name": "python3"
  },
  "language_info": {
   "codemirror_mode": {
    "name": "ipython",
    "version": 3
   },
   "file_extension": ".py",
   "mimetype": "text/x-python",
   "name": "python",
   "nbconvert_exporter": "python",
   "pygments_lexer": "ipython3",
   "version": "3.11.5"
  }
 },
 "nbformat": 4,
 "nbformat_minor": 5
}
