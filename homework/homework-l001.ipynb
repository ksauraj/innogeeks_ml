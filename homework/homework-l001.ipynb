{
 "cells": [
  {
   "cell_type": "markdown",
   "id": "0cf4cd95-27c0-41bb-b331-23ff8e40964e",
   "metadata": {},
   "source": [
    "## To print all prime numbers within range 2-100"
   ]
  },
  {
   "cell_type": "code",
   "execution_count": 5,
   "id": "b97f057e-b9db-4da6-b4eb-f3c820ade8fb",
   "metadata": {},
   "outputs": [
    {
     "name": "stdout",
     "output_type": "stream",
     "text": [
      "2 is prime number\n",
      "3 is prime number\n",
      "4 is prime number\n",
      "5 is prime number\n",
      "7 is prime number\n",
      "11 is prime number\n",
      "13 is prime number\n",
      "17 is prime number\n",
      "19 is prime number\n",
      "23 is prime number\n",
      "29 is prime number\n",
      "31 is prime number\n",
      "37 is prime number\n",
      "41 is prime number\n",
      "43 is prime number\n",
      "47 is prime number\n",
      "53 is prime number\n",
      "59 is prime number\n",
      "61 is prime number\n",
      "67 is prime number\n",
      "71 is prime number\n",
      "73 is prime number\n",
      "79 is prime number\n",
      "83 is prime number\n",
      "89 is prime number\n",
      "97 is prime number\n",
      "Number of iteration 897\n"
     ]
    }
   ],
   "source": [
    "# To print all prime numbers within 2-100\n",
    "checker = 0\n",
    "iteration_checker = 0\n",
    "for i in range(2,100):\n",
    "    for j in range(3,int(i/2)+2):\n",
    "        iteration_checker = iteration_checker + 1\n",
    "        if i % j == 0 :\n",
    "            checker=1\n",
    "            break\n",
    "    if checker == 0 :\n",
    "        print(f\"{i} is prime number\")\n",
    "    else :\n",
    "        #print(f\"{i} is non prime number\")\n",
    "        checker = 0\n",
    "\n",
    "print(f\"Number of iteration {iteration_checker}\")\n",
    "        \n",
    "            \n",
    "        "
   ]
  },
  {
   "cell_type": "code",
   "execution_count": 3,
   "id": "66eea2f5-c13c-4941-8cde-4b46ea74eb3a",
   "metadata": {},
   "outputs": [
    {
     "name": "stdout",
     "output_type": "stream",
     "text": [
      "2 is prime number\n",
      "3 is prime number\n",
      "5 is prime number\n",
      "7 is prime number\n",
      "11 is prime number\n",
      "13 is prime number\n",
      "17 is prime number\n",
      "19 is prime number\n",
      "23 is prime number\n",
      "29 is prime number\n",
      "31 is prime number\n",
      "37 is prime number\n",
      "41 is prime number\n",
      "43 is prime number\n",
      "47 is prime number\n",
      "53 is prime number\n",
      "59 is prime number\n",
      "61 is prime number\n",
      "67 is prime number\n",
      "71 is prime number\n",
      "73 is prime number\n",
      "79 is prime number\n",
      "83 is prime number\n",
      "89 is prime number\n",
      "97 is prime number\n",
      "Number of iteration 590\n"
     ]
    }
   ],
   "source": [
    "# To print all prime numbers within 2-n\n",
    "# Trying my optimisation\n",
    "checker = 0\n",
    "iteration_checker = 0\n",
    "for i in range(2,100):\n",
    "    for j in range(3,int(i/2)+2):\n",
    "        iteration_checker = iteration_checker + 1\n",
    "        if i % 2 == 0 :\n",
    "            checker=1\n",
    "            break\n",
    "        if i % j == 0 :\n",
    "            checker=1\n",
    "            break\n",
    "    if checker == 0 :\n",
    "        print(f\"{i} is prime number\")\n",
    "    else :\n",
    "        #print(f\"{i} is non prime number\")\n",
    "        checker = 0\n",
    "\n",
    "print(f\"Number of iteration {iteration_checker}\")\n",
    "    "
   ]
  },
  {
   "cell_type": "code",
   "execution_count": 76,
   "id": "a4efa685-f2cf-4fc8-bc04-45714fab21b4",
   "metadata": {},
   "outputs": [
    {
     "name": "stdin",
     "output_type": "stream",
     "text": [
      "Enter Upper limit for checking prime numbers :  100\n"
     ]
    },
    {
     "name": "stdout",
     "output_type": "stream",
     "text": [
      "2 is prime number\n",
      "3 is prime number\n",
      "5 is prime number\n",
      "7 is prime number\n",
      "11 is prime number\n",
      "13 is prime number\n",
      "17 is prime number\n",
      "19 is prime number\n",
      "23 is prime number\n",
      "29 is prime number\n",
      "31 is prime number\n",
      "37 is prime number\n",
      "41 is prime number\n",
      "43 is prime number\n",
      "47 is prime number\n",
      "53 is prime number\n",
      "59 is prime number\n",
      "61 is prime number\n",
      "67 is prime number\n",
      "71 is prime number\n",
      "73 is prime number\n",
      "79 is prime number\n",
      "83 is prime number\n",
      "89 is prime number\n",
      "97 is prime number\n",
      "Number of iteration 590\n"
     ]
    }
   ],
   "source": [
    "# To print all prime numbers within 2-100\n",
    "# Trying my optimisation\n",
    "checker = 0\n",
    "iteration_checker = 0\n",
    "upper_limit = int(input(\"Enter Upper limit for checking prime numbers : \"))\n",
    "for i in range(2,upper_limit):\n",
    "    for j in range(3,int(i/2)+2):\n",
    "        if i % 2 == 0 :\n",
    "            checker=1\n",
    "            iteration_checker = iteration_checker + 1\n",
    "            break\n",
    "        if i % j == 0 :\n",
    "            checker=1\n",
    "            iteration_checker = iteration_checker + 1\n",
    "            break\n",
    "        iteration_checker = iteration_checker + 1\n",
    "    if checker == 0 :\n",
    "        print(f\"{i} is prime number\")\n",
    "    else :\n",
    "        #print(f\"{i} is non prime number\")\n",
    "        checker = 0\n",
    "\n",
    "print(f\"Number of iteration {iteration_checker}\")"
   ]
  },
  {
   "cell_type": "markdown",
   "id": "8482c394-4a0e-46cb-a231-488ac9162841",
   "metadata": {},
   "source": [
    "## To print all prime numbers within range 2-n and return a list\n",
    "> With my optimisation"
   ]
  },
  {
   "cell_type": "code",
   "execution_count": 4,
   "id": "12e20390-10f3-4edb-87dc-571e1565573a",
   "metadata": {},
   "outputs": [
    {
     "name": "stdin",
     "output_type": "stream",
     "text": [
      "Enter Upper limit for checking prime numbers :  100\n"
     ]
    },
    {
     "name": "stdout",
     "output_type": "stream",
     "text": [
      "[2, 3, 5, 7, 11, 13, 17, 19, 23, 29, 31, 37, 41, 43, 47, 53, 59, 61, 67, 71, 73, 79, 83, 89, 97]\n",
      "Total Numbers of prime number in the given range : 25\n",
      "Number of iteration 590\n"
     ]
    }
   ],
   "source": [
    "# To print all prime numbers within 2-n and return a list\n",
    "# Trying my optimisation\n",
    "checker = 0\n",
    "iteration_checker = 0\n",
    "upper_limit = int(input(\"Enter Upper limit for checking prime numbers : \"))\n",
    "lst = []\n",
    "for i in range(2,upper_limit):\n",
    "    for j in range(3,int(i/2)+2):\n",
    "        iteration_checker = iteration_checker + 1\n",
    "        if i % 2 == 0 :\n",
    "            checker=1\n",
    "            break\n",
    "        if i % j == 0 :\n",
    "            checker=1\n",
    "            break\n",
    "    if checker == 0 :\n",
    "        #print(f\"{i} is prime number\")\n",
    "        lst.append(i)\n",
    "    else :\n",
    "        #print(f\"{i} is non prime number\")\n",
    "        checker = 0\n",
    "print(lst)\n",
    "print(f\"Total Numbers of prime number in the given range : {len(lst)}\")\n",
    "print(f\"Number of iteration {iteration_checker}\")\n"
   ]
  },
  {
   "cell_type": "code",
   "execution_count": null,
   "id": "d77f7896-a176-489d-8e9e-4fee093d1621",
   "metadata": {},
   "outputs": [],
   "source": []
  }
 ],
 "metadata": {
  "kernelspec": {
   "display_name": "Python 3 (ipykernel)",
   "language": "python",
   "name": "python3"
  },
  "language_info": {
   "codemirror_mode": {
    "name": "ipython",
    "version": 3
   },
   "file_extension": ".py",
   "mimetype": "text/x-python",
   "name": "python",
   "nbconvert_exporter": "python",
   "pygments_lexer": "ipython3",
   "version": "3.11.5"
  }
 },
 "nbformat": 4,
 "nbformat_minor": 5
}
