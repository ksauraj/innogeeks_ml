{
 "cells": [
  {
   "cell_type": "code",
   "execution_count": 5,
   "id": "b2537ce9-2c45-47e7-b7e0-4fdf972ccc54",
   "metadata": {},
   "outputs": [],
   "source": [
    "def greet(name):\n",
    "    print(\"Hello \" + name + \"!\")"
   ]
  },
  {
   "cell_type": "code",
   "execution_count": 6,
   "id": "205daf59-8fe3-401c-812e-b7e9c481a1b2",
   "metadata": {},
   "outputs": [
    {
     "name": "stdout",
     "output_type": "stream",
     "text": [
      "Hello sauraj!\n"
     ]
    }
   ],
   "source": [
    "greet(\"sauraj\")"
   ]
  },
  {
   "cell_type": "code",
   "execution_count": null,
   "id": "d474317d-c67b-4c40-b50b-af095bed8240",
   "metadata": {},
   "outputs": [],
   "source": []
  }
 ],
 "metadata": {
  "kernelspec": {
   "display_name": "Python 3 (ipykernel)",
   "language": "python",
   "name": "python3"
  },
  "language_info": {
   "codemirror_mode": {
    "name": "ipython",
    "version": 3
   },
   "file_extension": ".py",
   "mimetype": "text/x-python",
   "name": "python",
   "nbconvert_exporter": "python",
   "pygments_lexer": "ipython3",
   "version": "3.11.6"
  }
 },
 "nbformat": 4,
 "nbformat_minor": 5
}
