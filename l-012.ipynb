{
 "cells": [
  {
   "cell_type": "markdown",
   "id": "859338ff-5262-497a-8a71-dc3d16aaaf5e",
   "metadata": {},
   "source": [
    "# Numpy Advance"
   ]
  },
  {
   "cell_type": "code",
   "execution_count": 1,
   "id": "58060f52-fefb-413c-93c8-b92780b63171",
   "metadata": {},
   "outputs": [],
   "source": [
    "import numpy as np\n",
    "arr = np.array([[1,2,3],[4,5,6]])"
   ]
  },
  {
   "cell_type": "code",
   "execution_count": 2,
   "id": "bc06cab9-232e-4e74-943b-e3073cfc31fa",
   "metadata": {},
   "outputs": [
    {
     "name": "stdout",
     "output_type": "stream",
     "text": [
      "(2, 3)\n",
      "2\n",
      "6\n"
     ]
    }
   ],
   "source": [
    "print(arr.shape)\n",
    "print(arr.ndim)\n",
    "print(arr.size)"
   ]
  },
  {
   "cell_type": "code",
   "execution_count": 3,
   "id": "3f0d50f3-0043-4bad-82cb-f47fb9468d8b",
   "metadata": {},
   "outputs": [],
   "source": [
    "my_arr = np.array([1,2,3,4,5,6,7,8,9,10,11,12])"
   ]
  },
  {
   "cell_type": "code",
   "execution_count": 4,
   "id": "bc0fb1ad-29b4-466a-b89e-efae31813aae",
   "metadata": {},
   "outputs": [
    {
     "name": "stdout",
     "output_type": "stream",
     "text": [
      "[ 1  2  3  4  5  6  7  8  9 10 11 12]\n"
     ]
    }
   ],
   "source": [
    "print(my_arr)"
   ]
  },
  {
   "cell_type": "code",
   "execution_count": 5,
   "id": "8a43bd1f-942b-4b8c-a39d-52fe311dd38f",
   "metadata": {},
   "outputs": [
    {
     "name": "stdout",
     "output_type": "stream",
     "text": [
      "[[[ 1  2]\n",
      "  [ 3  4]\n",
      "  [ 5  6]]\n",
      "\n",
      " [[ 7  8]\n",
      "  [ 9 10]\n",
      "  [11 12]]]\n"
     ]
    }
   ],
   "source": [
    "reshaped_arr = my_arr.reshape(2, 3, -1)\n",
    "print(reshaped_arr)"
   ]
  },
  {
   "cell_type": "code",
   "execution_count": 6,
   "id": "1c3cc002-8400-4694-b8d0-26842f7b00f9",
   "metadata": {},
   "outputs": [
    {
     "name": "stdout",
     "output_type": "stream",
     "text": [
      "[ 1  2  3  4  5  6  7  8  9 10 11 12]\n"
     ]
    }
   ],
   "source": [
    "reshaped_arr = my_arr.reshape(-1)\n",
    "print(reshaped_arr)"
   ]
  },
  {
   "cell_type": "code",
   "execution_count": 7,
   "id": "fac8616c-34b3-4139-a2db-dca19ad90e14",
   "metadata": {},
   "outputs": [
    {
     "name": "stdout",
     "output_type": "stream",
     "text": [
      "1 | 2 | 3 | 4 | 5 | 6 | 7 | 8 | 9 | 10 | 11 | 12 | "
     ]
    }
   ],
   "source": [
    "for i in reshaped_arr:\n",
    "    print(i, end=\" | \")"
   ]
  },
  {
   "cell_type": "code",
   "execution_count": 8,
   "id": "e50c05ca-3653-49bf-863a-05588139052d",
   "metadata": {},
   "outputs": [
    {
     "name": "stdout",
     "output_type": "stream",
     "text": [
      "[[ 1  2  3  4  5  6]\n",
      " [ 7  8  9 10 11 12]]\n",
      "[1 2 3 4 5 6]|[ 7  8  9 10 11 12]|"
     ]
    }
   ],
   "source": [
    "reshaped_arr = reshaped_arr.reshape(2,6)\n",
    "print(reshaped_arr)\n",
    "for i in reshaped_arr:\n",
    "    print(i, end='|')"
   ]
  },
  {
   "cell_type": "code",
   "execution_count": 13,
   "id": "a3bf2931-2d99-4de0-ab5c-67aaf9a70bba",
   "metadata": {},
   "outputs": [
    {
     "name": "stdout",
     "output_type": "stream",
     "text": [
      "1|2|3|4|5|6|7|8|9|10|11|12|"
     ]
    },
    {
     "data": {
      "text/plain": [
       "numpy.ndarray"
      ]
     },
     "execution_count": 13,
     "metadata": {},
     "output_type": "execute_result"
    }
   ],
   "source": [
    "for i in np.nditer(reshaped_arr):\n",
    "    print(i, end='|')\n",
    "type(reshaped_arr)"
   ]
  },
  {
   "cell_type": "code",
   "execution_count": 12,
   "id": "1385a1c5-0f7b-4123-aad6-62e9912ea692",
   "metadata": {},
   "outputs": [
    {
     "data": {
      "text/plain": [
       "'1.26.1'"
      ]
     },
     "execution_count": 12,
     "metadata": {},
     "output_type": "execute_result"
    }
   ],
   "source": [
    "np.__version__"
   ]
  },
  {
   "cell_type": "code",
   "execution_count": null,
   "id": "c0d0d103-78dc-4aa4-a6ce-1d6c442d4928",
   "metadata": {},
   "outputs": [],
   "source": []
  }
 ],
 "metadata": {
  "kernelspec": {
   "display_name": "Python 3 (ipykernel)",
   "language": "python",
   "name": "python3"
  },
  "language_info": {
   "codemirror_mode": {
    "name": "ipython",
    "version": 3
   },
   "file_extension": ".py",
   "mimetype": "text/x-python",
   "name": "python",
   "nbconvert_exporter": "python",
   "pygments_lexer": "ipython3",
   "version": "3.11.6"
  }
 },
 "nbformat": 4,
 "nbformat_minor": 5
}
